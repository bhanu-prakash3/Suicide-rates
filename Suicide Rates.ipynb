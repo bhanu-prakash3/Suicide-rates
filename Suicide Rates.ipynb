{
 "cells": [
  {
   "cell_type": "markdown",
   "metadata": {},
   "source": [
    "# Suicide Rates\n",
    "# generation is the feature to be predicted\n",
    "# Classification task"
   ]
  },
  {
   "cell_type": "code",
   "execution_count": 1,
   "metadata": {
    "collapsed": true
   },
   "outputs": [],
   "source": [
    "#import necessary libraries\n",
    "import pandas as pd\n",
    "import numpy as np\n",
    "import matplotlib.pyplot as plt\n",
    "import seaborn as sns"
   ]
  },
  {
   "cell_type": "code",
   "execution_count": 2,
   "metadata": {
    "collapsed": true
   },
   "outputs": [],
   "source": [
    "dataset = pd.read_csv('suicide_rates.csv')"
   ]
  },
  {
   "cell_type": "code",
   "execution_count": 3,
   "metadata": {
    "collapsed": false
   },
   "outputs": [
    {
     "data": {
      "text/html": [
       "<div>\n",
       "<table border=\"1\" class=\"dataframe\">\n",
       "  <thead>\n",
       "    <tr style=\"text-align: right;\">\n",
       "      <th></th>\n",
       "      <th>country</th>\n",
       "      <th>year</th>\n",
       "      <th>sex</th>\n",
       "      <th>age</th>\n",
       "      <th>suicides_no</th>\n",
       "      <th>population</th>\n",
       "      <th>suicides/100k pop</th>\n",
       "      <th>country-year</th>\n",
       "      <th>HDI for year</th>\n",
       "      <th>gdp_for_year ($)</th>\n",
       "      <th>gdp_per_capita ($)</th>\n",
       "      <th>generation</th>\n",
       "    </tr>\n",
       "  </thead>\n",
       "  <tbody>\n",
       "    <tr>\n",
       "      <th>0</th>\n",
       "      <td>Albania</td>\n",
       "      <td>1987</td>\n",
       "      <td>male</td>\n",
       "      <td>15-24 years</td>\n",
       "      <td>21</td>\n",
       "      <td>312900</td>\n",
       "      <td>6.71</td>\n",
       "      <td>Albania1987</td>\n",
       "      <td>NaN</td>\n",
       "      <td>2,156,624,900</td>\n",
       "      <td>796</td>\n",
       "      <td>Generation X</td>\n",
       "    </tr>\n",
       "    <tr>\n",
       "      <th>1</th>\n",
       "      <td>Albania</td>\n",
       "      <td>1987</td>\n",
       "      <td>male</td>\n",
       "      <td>35-54 years</td>\n",
       "      <td>16</td>\n",
       "      <td>308000</td>\n",
       "      <td>5.19</td>\n",
       "      <td>Albania1987</td>\n",
       "      <td>NaN</td>\n",
       "      <td>2,156,624,900</td>\n",
       "      <td>796</td>\n",
       "      <td>Silent</td>\n",
       "    </tr>\n",
       "    <tr>\n",
       "      <th>2</th>\n",
       "      <td>Albania</td>\n",
       "      <td>1987</td>\n",
       "      <td>female</td>\n",
       "      <td>15-24 years</td>\n",
       "      <td>14</td>\n",
       "      <td>289700</td>\n",
       "      <td>4.83</td>\n",
       "      <td>Albania1987</td>\n",
       "      <td>NaN</td>\n",
       "      <td>2,156,624,900</td>\n",
       "      <td>796</td>\n",
       "      <td>Generation X</td>\n",
       "    </tr>\n",
       "    <tr>\n",
       "      <th>3</th>\n",
       "      <td>Albania</td>\n",
       "      <td>1987</td>\n",
       "      <td>male</td>\n",
       "      <td>75+ years</td>\n",
       "      <td>1</td>\n",
       "      <td>21800</td>\n",
       "      <td>4.59</td>\n",
       "      <td>Albania1987</td>\n",
       "      <td>NaN</td>\n",
       "      <td>2,156,624,900</td>\n",
       "      <td>796</td>\n",
       "      <td>G.I. Generation</td>\n",
       "    </tr>\n",
       "    <tr>\n",
       "      <th>4</th>\n",
       "      <td>Albania</td>\n",
       "      <td>1987</td>\n",
       "      <td>male</td>\n",
       "      <td>25-34 years</td>\n",
       "      <td>9</td>\n",
       "      <td>274300</td>\n",
       "      <td>3.28</td>\n",
       "      <td>Albania1987</td>\n",
       "      <td>NaN</td>\n",
       "      <td>2,156,624,900</td>\n",
       "      <td>796</td>\n",
       "      <td>Boomers</td>\n",
       "    </tr>\n",
       "    <tr>\n",
       "      <th>5</th>\n",
       "      <td>Albania</td>\n",
       "      <td>1987</td>\n",
       "      <td>female</td>\n",
       "      <td>75+ years</td>\n",
       "      <td>1</td>\n",
       "      <td>35600</td>\n",
       "      <td>2.81</td>\n",
       "      <td>Albania1987</td>\n",
       "      <td>NaN</td>\n",
       "      <td>2,156,624,900</td>\n",
       "      <td>796</td>\n",
       "      <td>G.I. Generation</td>\n",
       "    </tr>\n",
       "    <tr>\n",
       "      <th>6</th>\n",
       "      <td>Albania</td>\n",
       "      <td>1987</td>\n",
       "      <td>female</td>\n",
       "      <td>35-54 years</td>\n",
       "      <td>6</td>\n",
       "      <td>278800</td>\n",
       "      <td>2.15</td>\n",
       "      <td>Albania1987</td>\n",
       "      <td>NaN</td>\n",
       "      <td>2,156,624,900</td>\n",
       "      <td>796</td>\n",
       "      <td>Silent</td>\n",
       "    </tr>\n",
       "    <tr>\n",
       "      <th>7</th>\n",
       "      <td>Albania</td>\n",
       "      <td>1987</td>\n",
       "      <td>female</td>\n",
       "      <td>25-34 years</td>\n",
       "      <td>4</td>\n",
       "      <td>257200</td>\n",
       "      <td>1.56</td>\n",
       "      <td>Albania1987</td>\n",
       "      <td>NaN</td>\n",
       "      <td>2,156,624,900</td>\n",
       "      <td>796</td>\n",
       "      <td>Boomers</td>\n",
       "    </tr>\n",
       "    <tr>\n",
       "      <th>8</th>\n",
       "      <td>Albania</td>\n",
       "      <td>1987</td>\n",
       "      <td>male</td>\n",
       "      <td>55-74 years</td>\n",
       "      <td>1</td>\n",
       "      <td>137500</td>\n",
       "      <td>0.73</td>\n",
       "      <td>Albania1987</td>\n",
       "      <td>NaN</td>\n",
       "      <td>2,156,624,900</td>\n",
       "      <td>796</td>\n",
       "      <td>G.I. Generation</td>\n",
       "    </tr>\n",
       "    <tr>\n",
       "      <th>9</th>\n",
       "      <td>Albania</td>\n",
       "      <td>1987</td>\n",
       "      <td>female</td>\n",
       "      <td>5-14 years</td>\n",
       "      <td>0</td>\n",
       "      <td>311000</td>\n",
       "      <td>0.00</td>\n",
       "      <td>Albania1987</td>\n",
       "      <td>NaN</td>\n",
       "      <td>2,156,624,900</td>\n",
       "      <td>796</td>\n",
       "      <td>Generation X</td>\n",
       "    </tr>\n",
       "  </tbody>\n",
       "</table>\n",
       "</div>"
      ],
      "text/plain": [
       "   country  year     sex          age  suicides_no  population  \\\n",
       "0  Albania  1987    male  15-24 years           21      312900   \n",
       "1  Albania  1987    male  35-54 years           16      308000   \n",
       "2  Albania  1987  female  15-24 years           14      289700   \n",
       "3  Albania  1987    male    75+ years            1       21800   \n",
       "4  Albania  1987    male  25-34 years            9      274300   \n",
       "5  Albania  1987  female    75+ years            1       35600   \n",
       "6  Albania  1987  female  35-54 years            6      278800   \n",
       "7  Albania  1987  female  25-34 years            4      257200   \n",
       "8  Albania  1987    male  55-74 years            1      137500   \n",
       "9  Albania  1987  female   5-14 years            0      311000   \n",
       "\n",
       "   suicides/100k pop country-year  HDI for year  gdp_for_year ($)   \\\n",
       "0               6.71  Albania1987           NaN      2,156,624,900   \n",
       "1               5.19  Albania1987           NaN      2,156,624,900   \n",
       "2               4.83  Albania1987           NaN      2,156,624,900   \n",
       "3               4.59  Albania1987           NaN      2,156,624,900   \n",
       "4               3.28  Albania1987           NaN      2,156,624,900   \n",
       "5               2.81  Albania1987           NaN      2,156,624,900   \n",
       "6               2.15  Albania1987           NaN      2,156,624,900   \n",
       "7               1.56  Albania1987           NaN      2,156,624,900   \n",
       "8               0.73  Albania1987           NaN      2,156,624,900   \n",
       "9               0.00  Albania1987           NaN      2,156,624,900   \n",
       "\n",
       "   gdp_per_capita ($)       generation  \n",
       "0                 796     Generation X  \n",
       "1                 796           Silent  \n",
       "2                 796     Generation X  \n",
       "3                 796  G.I. Generation  \n",
       "4                 796          Boomers  \n",
       "5                 796  G.I. Generation  \n",
       "6                 796           Silent  \n",
       "7                 796          Boomers  \n",
       "8                 796  G.I. Generation  \n",
       "9                 796     Generation X  "
      ]
     },
     "execution_count": 3,
     "metadata": {},
     "output_type": "execute_result"
    }
   ],
   "source": [
    "dataset.head(10)"
   ]
  },
  {
   "cell_type": "code",
   "execution_count": 4,
   "metadata": {
    "collapsed": false
   },
   "outputs": [
    {
     "data": {
      "text/html": [
       "<div>\n",
       "<table border=\"1\" class=\"dataframe\">\n",
       "  <thead>\n",
       "    <tr style=\"text-align: right;\">\n",
       "      <th></th>\n",
       "      <th>country</th>\n",
       "      <th>year</th>\n",
       "      <th>sex</th>\n",
       "      <th>age</th>\n",
       "      <th>suicides_no</th>\n",
       "      <th>population</th>\n",
       "      <th>suicides/100k pop</th>\n",
       "      <th>country-year</th>\n",
       "      <th>HDI for year</th>\n",
       "      <th>gdp_for_year ($)</th>\n",
       "      <th>gdp_per_capita ($)</th>\n",
       "      <th>generation</th>\n",
       "    </tr>\n",
       "  </thead>\n",
       "  <tbody>\n",
       "    <tr>\n",
       "      <th>6103</th>\n",
       "      <td>Costa Rica</td>\n",
       "      <td>1992</td>\n",
       "      <td>female</td>\n",
       "      <td>75+ years</td>\n",
       "      <td>0</td>\n",
       "      <td>26500</td>\n",
       "      <td>0.00</td>\n",
       "      <td>Costa Rica1992</td>\n",
       "      <td>NaN</td>\n",
       "      <td>8,528,593,084</td>\n",
       "      <td>3070</td>\n",
       "      <td>G.I. Generation</td>\n",
       "    </tr>\n",
       "    <tr>\n",
       "      <th>17752</th>\n",
       "      <td>New Zealand</td>\n",
       "      <td>2010</td>\n",
       "      <td>male</td>\n",
       "      <td>55-74 years</td>\n",
       "      <td>67</td>\n",
       "      <td>387900</td>\n",
       "      <td>17.27</td>\n",
       "      <td>New Zealand2010</td>\n",
       "      <td>0.905</td>\n",
       "      <td>146,583,831,538</td>\n",
       "      <td>36145</td>\n",
       "      <td>Silent</td>\n",
       "    </tr>\n",
       "    <tr>\n",
       "      <th>27156</th>\n",
       "      <td>United States</td>\n",
       "      <td>2010</td>\n",
       "      <td>female</td>\n",
       "      <td>15-24 years</td>\n",
       "      <td>830</td>\n",
       "      <td>21395712</td>\n",
       "      <td>3.88</td>\n",
       "      <td>United States2010</td>\n",
       "      <td>0.909</td>\n",
       "      <td>14,964,372,000,000</td>\n",
       "      <td>51989</td>\n",
       "      <td>Millenials</td>\n",
       "    </tr>\n",
       "    <tr>\n",
       "      <th>11266</th>\n",
       "      <td>Guyana</td>\n",
       "      <td>2005</td>\n",
       "      <td>male</td>\n",
       "      <td>5-14 years</td>\n",
       "      <td>1</td>\n",
       "      <td>96224</td>\n",
       "      <td>1.04</td>\n",
       "      <td>Guyana2005</td>\n",
       "      <td>0.618</td>\n",
       "      <td>824,880,550</td>\n",
       "      <td>1235</td>\n",
       "      <td>Millenials</td>\n",
       "    </tr>\n",
       "    <tr>\n",
       "      <th>21286</th>\n",
       "      <td>Saint Kitts and Nevis</td>\n",
       "      <td>1992</td>\n",
       "      <td>female</td>\n",
       "      <td>35-54 years</td>\n",
       "      <td>0</td>\n",
       "      <td>2900</td>\n",
       "      <td>0.00</td>\n",
       "      <td>Saint Kitts and Nevis1992</td>\n",
       "      <td>NaN</td>\n",
       "      <td>229,434,519</td>\n",
       "      <td>5868</td>\n",
       "      <td>Boomers</td>\n",
       "    </tr>\n",
       "  </tbody>\n",
       "</table>\n",
       "</div>"
      ],
      "text/plain": [
       "                     country  year     sex          age  suicides_no  \\\n",
       "6103              Costa Rica  1992  female    75+ years            0   \n",
       "17752            New Zealand  2010    male  55-74 years           67   \n",
       "27156          United States  2010  female  15-24 years          830   \n",
       "11266                 Guyana  2005    male   5-14 years            1   \n",
       "21286  Saint Kitts and Nevis  1992  female  35-54 years            0   \n",
       "\n",
       "       population  suicides/100k pop               country-year  HDI for year  \\\n",
       "6103        26500               0.00             Costa Rica1992           NaN   \n",
       "17752      387900              17.27            New Zealand2010         0.905   \n",
       "27156    21395712               3.88          United States2010         0.909   \n",
       "11266       96224               1.04                 Guyana2005         0.618   \n",
       "21286        2900               0.00  Saint Kitts and Nevis1992           NaN   \n",
       "\n",
       "        gdp_for_year ($)   gdp_per_capita ($)       generation  \n",
       "6103        8,528,593,084                3070  G.I. Generation  \n",
       "17752     146,583,831,538               36145           Silent  \n",
       "27156  14,964,372,000,000               51989       Millenials  \n",
       "11266         824,880,550                1235       Millenials  \n",
       "21286         229,434,519                5868          Boomers  "
      ]
     },
     "execution_count": 4,
     "metadata": {},
     "output_type": "execute_result"
    }
   ],
   "source": [
    "dataset.sample(5)"
   ]
  },
  {
   "cell_type": "code",
   "execution_count": 5,
   "metadata": {
    "collapsed": false
   },
   "outputs": [
    {
     "name": "stdout",
     "output_type": "stream",
     "text": [
      "<class 'pandas.core.frame.DataFrame'>\n",
      "RangeIndex: 27820 entries, 0 to 27819\n",
      "Data columns (total 12 columns):\n",
      "country               27820 non-null object\n",
      "year                  27820 non-null int64\n",
      "sex                   27820 non-null object\n",
      "age                   27820 non-null object\n",
      "suicides_no           27820 non-null int64\n",
      "population            27820 non-null int64\n",
      "suicides/100k pop     27820 non-null float64\n",
      "country-year          27820 non-null object\n",
      "HDI for year          8364 non-null float64\n",
      " gdp_for_year ($)     27820 non-null object\n",
      "gdp_per_capita ($)    27820 non-null int64\n",
      "generation            27820 non-null object\n",
      "dtypes: float64(2), int64(4), object(6)\n",
      "memory usage: 2.5+ MB\n"
     ]
    }
   ],
   "source": [
    "dataset.info()"
   ]
  },
  {
   "cell_type": "code",
   "execution_count": 6,
   "metadata": {
    "collapsed": false
   },
   "outputs": [
    {
     "data": {
      "text/plain": [
       "array(['15-24 years', '35-54 years', '75+ years', '25-34 years',\n",
       "       '55-74 years', '5-14 years'], dtype=object)"
      ]
     },
     "execution_count": 6,
     "metadata": {},
     "output_type": "execute_result"
    }
   ],
   "source": [
    "#print unique age values\n",
    "dataset['age'].unique()"
   ]
  },
  {
   "cell_type": "code",
   "execution_count": 7,
   "metadata": {
    "collapsed": false
   },
   "outputs": [],
   "source": [
    "#No need of country-year column- Drop it\n",
    "dataset.drop('country-year',axis=1,inplace=True)"
   ]
  },
  {
   "cell_type": "code",
   "execution_count": 8,
   "metadata": {
    "collapsed": false
   },
   "outputs": [],
   "source": [
    "#Change column name HDI for year to hdi_year\n",
    "dataset.rename(columns={'HDI for year':'hdi_year'},inplace=True)"
   ]
  },
  {
   "cell_type": "code",
   "execution_count": 9,
   "metadata": {
    "collapsed": false
   },
   "outputs": [
    {
     "data": {
      "text/plain": [
       "country                   0\n",
       "year                      0\n",
       "sex                       0\n",
       "age                       0\n",
       "suicides_no               0\n",
       "population                0\n",
       "suicides/100k pop         0\n",
       "hdi_year              19456\n",
       " gdp_for_year ($)         0\n",
       "gdp_per_capita ($)        0\n",
       "generation                0\n",
       "dtype: int64"
      ]
     },
     "execution_count": 9,
     "metadata": {},
     "output_type": "execute_result"
    }
   ],
   "source": [
    "dataset.isnull().sum()"
   ]
  },
  {
   "cell_type": "code",
   "execution_count": 10,
   "metadata": {
    "collapsed": false
   },
   "outputs": [],
   "source": [
    "#Too many null values in column hdi_year , so better drop it than filling it.\n",
    "dataset.drop('hdi_year',axis=1,inplace=True)"
   ]
  },
  {
   "cell_type": "code",
   "execution_count": 11,
   "metadata": {
    "collapsed": false
   },
   "outputs": [
    {
     "data": {
      "text/html": [
       "<div>\n",
       "<table border=\"1\" class=\"dataframe\">\n",
       "  <thead>\n",
       "    <tr style=\"text-align: right;\">\n",
       "      <th></th>\n",
       "      <th>country</th>\n",
       "      <th>year</th>\n",
       "      <th>sex</th>\n",
       "      <th>age</th>\n",
       "      <th>suicides_no</th>\n",
       "      <th>population</th>\n",
       "      <th>suicides/100k pop</th>\n",
       "      <th>gdp_for_year ($)</th>\n",
       "      <th>gdp_per_capita ($)</th>\n",
       "      <th>generation</th>\n",
       "    </tr>\n",
       "  </thead>\n",
       "  <tbody>\n",
       "    <tr>\n",
       "      <th>0</th>\n",
       "      <td>Albania</td>\n",
       "      <td>1987</td>\n",
       "      <td>male</td>\n",
       "      <td>15-24 years</td>\n",
       "      <td>21</td>\n",
       "      <td>312900</td>\n",
       "      <td>6.71</td>\n",
       "      <td>2,156,624,900</td>\n",
       "      <td>796</td>\n",
       "      <td>Generation X</td>\n",
       "    </tr>\n",
       "    <tr>\n",
       "      <th>1</th>\n",
       "      <td>Albania</td>\n",
       "      <td>1987</td>\n",
       "      <td>male</td>\n",
       "      <td>35-54 years</td>\n",
       "      <td>16</td>\n",
       "      <td>308000</td>\n",
       "      <td>5.19</td>\n",
       "      <td>2,156,624,900</td>\n",
       "      <td>796</td>\n",
       "      <td>Silent</td>\n",
       "    </tr>\n",
       "    <tr>\n",
       "      <th>2</th>\n",
       "      <td>Albania</td>\n",
       "      <td>1987</td>\n",
       "      <td>female</td>\n",
       "      <td>15-24 years</td>\n",
       "      <td>14</td>\n",
       "      <td>289700</td>\n",
       "      <td>4.83</td>\n",
       "      <td>2,156,624,900</td>\n",
       "      <td>796</td>\n",
       "      <td>Generation X</td>\n",
       "    </tr>\n",
       "    <tr>\n",
       "      <th>3</th>\n",
       "      <td>Albania</td>\n",
       "      <td>1987</td>\n",
       "      <td>male</td>\n",
       "      <td>75+ years</td>\n",
       "      <td>1</td>\n",
       "      <td>21800</td>\n",
       "      <td>4.59</td>\n",
       "      <td>2,156,624,900</td>\n",
       "      <td>796</td>\n",
       "      <td>G.I. Generation</td>\n",
       "    </tr>\n",
       "    <tr>\n",
       "      <th>4</th>\n",
       "      <td>Albania</td>\n",
       "      <td>1987</td>\n",
       "      <td>male</td>\n",
       "      <td>25-34 years</td>\n",
       "      <td>9</td>\n",
       "      <td>274300</td>\n",
       "      <td>3.28</td>\n",
       "      <td>2,156,624,900</td>\n",
       "      <td>796</td>\n",
       "      <td>Boomers</td>\n",
       "    </tr>\n",
       "    <tr>\n",
       "      <th>5</th>\n",
       "      <td>Albania</td>\n",
       "      <td>1987</td>\n",
       "      <td>female</td>\n",
       "      <td>75+ years</td>\n",
       "      <td>1</td>\n",
       "      <td>35600</td>\n",
       "      <td>2.81</td>\n",
       "      <td>2,156,624,900</td>\n",
       "      <td>796</td>\n",
       "      <td>G.I. Generation</td>\n",
       "    </tr>\n",
       "    <tr>\n",
       "      <th>6</th>\n",
       "      <td>Albania</td>\n",
       "      <td>1987</td>\n",
       "      <td>female</td>\n",
       "      <td>35-54 years</td>\n",
       "      <td>6</td>\n",
       "      <td>278800</td>\n",
       "      <td>2.15</td>\n",
       "      <td>2,156,624,900</td>\n",
       "      <td>796</td>\n",
       "      <td>Silent</td>\n",
       "    </tr>\n",
       "    <tr>\n",
       "      <th>7</th>\n",
       "      <td>Albania</td>\n",
       "      <td>1987</td>\n",
       "      <td>female</td>\n",
       "      <td>25-34 years</td>\n",
       "      <td>4</td>\n",
       "      <td>257200</td>\n",
       "      <td>1.56</td>\n",
       "      <td>2,156,624,900</td>\n",
       "      <td>796</td>\n",
       "      <td>Boomers</td>\n",
       "    </tr>\n",
       "    <tr>\n",
       "      <th>8</th>\n",
       "      <td>Albania</td>\n",
       "      <td>1987</td>\n",
       "      <td>male</td>\n",
       "      <td>55-74 years</td>\n",
       "      <td>1</td>\n",
       "      <td>137500</td>\n",
       "      <td>0.73</td>\n",
       "      <td>2,156,624,900</td>\n",
       "      <td>796</td>\n",
       "      <td>G.I. Generation</td>\n",
       "    </tr>\n",
       "    <tr>\n",
       "      <th>9</th>\n",
       "      <td>Albania</td>\n",
       "      <td>1987</td>\n",
       "      <td>female</td>\n",
       "      <td>5-14 years</td>\n",
       "      <td>0</td>\n",
       "      <td>311000</td>\n",
       "      <td>0.00</td>\n",
       "      <td>2,156,624,900</td>\n",
       "      <td>796</td>\n",
       "      <td>Generation X</td>\n",
       "    </tr>\n",
       "  </tbody>\n",
       "</table>\n",
       "</div>"
      ],
      "text/plain": [
       "   country  year     sex          age  suicides_no  population  \\\n",
       "0  Albania  1987    male  15-24 years           21      312900   \n",
       "1  Albania  1987    male  35-54 years           16      308000   \n",
       "2  Albania  1987  female  15-24 years           14      289700   \n",
       "3  Albania  1987    male    75+ years            1       21800   \n",
       "4  Albania  1987    male  25-34 years            9      274300   \n",
       "5  Albania  1987  female    75+ years            1       35600   \n",
       "6  Albania  1987  female  35-54 years            6      278800   \n",
       "7  Albania  1987  female  25-34 years            4      257200   \n",
       "8  Albania  1987    male  55-74 years            1      137500   \n",
       "9  Albania  1987  female   5-14 years            0      311000   \n",
       "\n",
       "   suicides/100k pop  gdp_for_year ($)   gdp_per_capita ($)       generation  \n",
       "0               6.71      2,156,624,900                 796     Generation X  \n",
       "1               5.19      2,156,624,900                 796           Silent  \n",
       "2               4.83      2,156,624,900                 796     Generation X  \n",
       "3               4.59      2,156,624,900                 796  G.I. Generation  \n",
       "4               3.28      2,156,624,900                 796          Boomers  \n",
       "5               2.81      2,156,624,900                 796  G.I. Generation  \n",
       "6               2.15      2,156,624,900                 796           Silent  \n",
       "7               1.56      2,156,624,900                 796          Boomers  \n",
       "8               0.73      2,156,624,900                 796  G.I. Generation  \n",
       "9               0.00      2,156,624,900                 796     Generation X  "
      ]
     },
     "execution_count": 11,
     "metadata": {},
     "output_type": "execute_result"
    }
   ],
   "source": [
    "dataset.head(10)"
   ]
  },
  {
   "cell_type": "code",
   "execution_count": 12,
   "metadata": {
    "collapsed": true
   },
   "outputs": [],
   "source": [
    "agee = []"
   ]
  },
  {
   "cell_type": "code",
   "execution_count": 13,
   "metadata": {
    "collapsed": false
   },
   "outputs": [],
   "source": [
    "for i in dataset['age']:\n",
    "    agee.append(i.replace(' years',''))"
   ]
  },
  {
   "cell_type": "code",
   "execution_count": 14,
   "metadata": {
    "collapsed": false
   },
   "outputs": [],
   "source": [
    "dataset['age'] = agee"
   ]
  },
  {
   "cell_type": "code",
   "execution_count": null,
   "metadata": {
    "collapsed": false
   },
   "outputs": [],
   "source": []
  },
  {
   "cell_type": "code",
   "execution_count": 15,
   "metadata": {
    "collapsed": false
   },
   "outputs": [
    {
     "data": {
      "text/html": [
       "<div>\n",
       "<table border=\"1\" class=\"dataframe\">\n",
       "  <thead>\n",
       "    <tr style=\"text-align: right;\">\n",
       "      <th></th>\n",
       "      <th>country</th>\n",
       "      <th>year</th>\n",
       "      <th>sex</th>\n",
       "      <th>age</th>\n",
       "      <th>suicides_no</th>\n",
       "      <th>population</th>\n",
       "      <th>suicides/100k pop</th>\n",
       "      <th>gdp_for_year ($)</th>\n",
       "      <th>gdp_per_capita ($)</th>\n",
       "      <th>generation</th>\n",
       "    </tr>\n",
       "  </thead>\n",
       "  <tbody>\n",
       "    <tr>\n",
       "      <th>0</th>\n",
       "      <td>Albania</td>\n",
       "      <td>1987</td>\n",
       "      <td>male</td>\n",
       "      <td>15-24</td>\n",
       "      <td>21</td>\n",
       "      <td>312900</td>\n",
       "      <td>6.71</td>\n",
       "      <td>2,156,624,900</td>\n",
       "      <td>796</td>\n",
       "      <td>Generation X</td>\n",
       "    </tr>\n",
       "    <tr>\n",
       "      <th>1</th>\n",
       "      <td>Albania</td>\n",
       "      <td>1987</td>\n",
       "      <td>male</td>\n",
       "      <td>35-54</td>\n",
       "      <td>16</td>\n",
       "      <td>308000</td>\n",
       "      <td>5.19</td>\n",
       "      <td>2,156,624,900</td>\n",
       "      <td>796</td>\n",
       "      <td>Silent</td>\n",
       "    </tr>\n",
       "    <tr>\n",
       "      <th>2</th>\n",
       "      <td>Albania</td>\n",
       "      <td>1987</td>\n",
       "      <td>female</td>\n",
       "      <td>15-24</td>\n",
       "      <td>14</td>\n",
       "      <td>289700</td>\n",
       "      <td>4.83</td>\n",
       "      <td>2,156,624,900</td>\n",
       "      <td>796</td>\n",
       "      <td>Generation X</td>\n",
       "    </tr>\n",
       "    <tr>\n",
       "      <th>3</th>\n",
       "      <td>Albania</td>\n",
       "      <td>1987</td>\n",
       "      <td>male</td>\n",
       "      <td>75+</td>\n",
       "      <td>1</td>\n",
       "      <td>21800</td>\n",
       "      <td>4.59</td>\n",
       "      <td>2,156,624,900</td>\n",
       "      <td>796</td>\n",
       "      <td>G.I. Generation</td>\n",
       "    </tr>\n",
       "    <tr>\n",
       "      <th>4</th>\n",
       "      <td>Albania</td>\n",
       "      <td>1987</td>\n",
       "      <td>male</td>\n",
       "      <td>25-34</td>\n",
       "      <td>9</td>\n",
       "      <td>274300</td>\n",
       "      <td>3.28</td>\n",
       "      <td>2,156,624,900</td>\n",
       "      <td>796</td>\n",
       "      <td>Boomers</td>\n",
       "    </tr>\n",
       "  </tbody>\n",
       "</table>\n",
       "</div>"
      ],
      "text/plain": [
       "   country  year     sex    age  suicides_no  population  suicides/100k pop  \\\n",
       "0  Albania  1987    male  15-24           21      312900               6.71   \n",
       "1  Albania  1987    male  35-54           16      308000               5.19   \n",
       "2  Albania  1987  female  15-24           14      289700               4.83   \n",
       "3  Albania  1987    male    75+            1       21800               4.59   \n",
       "4  Albania  1987    male  25-34            9      274300               3.28   \n",
       "\n",
       "   gdp_for_year ($)   gdp_per_capita ($)       generation  \n",
       "0      2,156,624,900                 796     Generation X  \n",
       "1      2,156,624,900                 796           Silent  \n",
       "2      2,156,624,900                 796     Generation X  \n",
       "3      2,156,624,900                 796  G.I. Generation  \n",
       "4      2,156,624,900                 796          Boomers  "
      ]
     },
     "execution_count": 15,
     "metadata": {},
     "output_type": "execute_result"
    }
   ],
   "source": [
    "dataset.head()"
   ]
  },
  {
   "cell_type": "markdown",
   "metadata": {
    "collapsed": true
   },
   "source": [
    "# Exploratory Data Analysis"
   ]
  },
  {
   "cell_type": "code",
   "execution_count": 16,
   "metadata": {
    "collapsed": true
   },
   "outputs": [],
   "source": [
    "%matplotlib inline"
   ]
  },
  {
   "cell_type": "code",
   "execution_count": 17,
   "metadata": {
    "collapsed": false
   },
   "outputs": [
    {
     "data": {
      "text/plain": [
       "<matplotlib.axes._subplots.AxesSubplot at 0x7f8a812bcf60>"
      ]
     },
     "execution_count": 17,
     "metadata": {},
     "output_type": "execute_result"
    },
    {
     "data": {
      "image/png": "[encoded data removed]",
      "text/plain": [
       "<matplotlib.figure.Figure at 0x7f8a81ab66d8>"
      ]
     },
     "metadata": {},
     "output_type": "display_data"
    }
   ],
   "source": [
    "sns.countplot(dataset['age'])"
   ]
  },
  {
   "cell_type": "code",
   "execution_count": 18,
   "metadata": {
    "collapsed": false
   },
   "outputs": [
    {
     "data": {
      "text/plain": [
       "(array([0, 1, 2, 3, 4, 5]), <a list of 6 Text xticklabel objects>)"
      ]
     },
     "execution_count": 18,
     "metadata": {},
     "output_type": "execute_result"
    },
    {
     "data": {
      "image/png": "[encoded data removed]",
      "text/plain": [
       "<matplotlib.figure.Figure at 0x7f8a81291668>"
      ]
     },
     "metadata": {},
     "output_type": "display_data"
    }
   ],
   "source": [
    "sns.countplot(x=\"generation\", hue=\"sex\",data=dataset)\n",
    "plt.xticks(rotation=45)"
   ]
  },
  {
   "cell_type": "code",
   "execution_count": 19,
   "metadata": {
    "collapsed": false
   },
   "outputs": [
    {
     "name": "stderr",
     "output_type": "stream",
     "text": [
      "/home/bhanuprakash/anaconda3/lib/python3.6/site-packages/scipy/stats/stats.py:1626: FutureWarning: Using a non-tuple sequence for multidimensional indexing is deprecated; use `arr[tuple(seq)]` instead of `arr[seq]`. In the future this will be interpreted as an array index, `arr[np.array(seq)]`, which will result either in an error or a different result.\n",
      "  return np.add.reduce(sorted[indexer] * weights, axis=axis) / sumval\n"
     ]
    },
    {
     "data": {
      "text/plain": [
       "<matplotlib.axes._subplots.AxesSubplot at 0x7f8a7d9dbdd8>"
      ]
     },
     "execution_count": 19,
     "metadata": {},
     "output_type": "execute_result"
    },
    {
     "data": {
      "image/png": "[encoded data removed]",
      "text/plain": [
       "<matplotlib.figure.Figure at 0x7f8a812baf28>"
      ]
     },
     "metadata": {},
     "output_type": "display_data"
    }
   ],
   "source": [
    "sns.barplot(x=\"suicides_no\",y=\"generation\",data=dataset,hue=\"sex\")"
   ]
  },
  {
   "cell_type": "code",
   "execution_count": 20,
   "metadata": {
    "collapsed": false
   },
   "outputs": [
    {
     "data": {
      "text/html": [
       "<div>\n",
       "<table border=\"1\" class=\"dataframe\">\n",
       "  <thead>\n",
       "    <tr style=\"text-align: right;\">\n",
       "      <th></th>\n",
       "      <th>country</th>\n",
       "      <th>year</th>\n",
       "      <th>sex</th>\n",
       "      <th>age</th>\n",
       "      <th>suicides_no</th>\n",
       "      <th>population</th>\n",
       "      <th>suicides/100k pop</th>\n",
       "      <th>gdp_for_year ($)</th>\n",
       "      <th>gdp_per_capita ($)</th>\n",
       "      <th>generation</th>\n",
       "    </tr>\n",
       "  </thead>\n",
       "  <tbody>\n",
       "    <tr>\n",
       "      <th>0</th>\n",
       "      <td>Albania</td>\n",
       "      <td>1987</td>\n",
       "      <td>male</td>\n",
       "      <td>15-24</td>\n",
       "      <td>21</td>\n",
       "      <td>312900</td>\n",
       "      <td>6.71</td>\n",
       "      <td>2,156,624,900</td>\n",
       "      <td>796</td>\n",
       "      <td>Generation X</td>\n",
       "    </tr>\n",
       "    <tr>\n",
       "      <th>1</th>\n",
       "      <td>Albania</td>\n",
       "      <td>1987</td>\n",
       "      <td>male</td>\n",
       "      <td>35-54</td>\n",
       "      <td>16</td>\n",
       "      <td>308000</td>\n",
       "      <td>5.19</td>\n",
       "      <td>2,156,624,900</td>\n",
       "      <td>796</td>\n",
       "      <td>Silent</td>\n",
       "    </tr>\n",
       "    <tr>\n",
       "      <th>2</th>\n",
       "      <td>Albania</td>\n",
       "      <td>1987</td>\n",
       "      <td>female</td>\n",
       "      <td>15-24</td>\n",
       "      <td>14</td>\n",
       "      <td>289700</td>\n",
       "      <td>4.83</td>\n",
       "      <td>2,156,624,900</td>\n",
       "      <td>796</td>\n",
       "      <td>Generation X</td>\n",
       "    </tr>\n",
       "    <tr>\n",
       "      <th>3</th>\n",
       "      <td>Albania</td>\n",
       "      <td>1987</td>\n",
       "      <td>male</td>\n",
       "      <td>75+</td>\n",
       "      <td>1</td>\n",
       "      <td>21800</td>\n",
       "      <td>4.59</td>\n",
       "      <td>2,156,624,900</td>\n",
       "      <td>796</td>\n",
       "      <td>G.I. Generation</td>\n",
       "    </tr>\n",
       "    <tr>\n",
       "      <th>4</th>\n",
       "      <td>Albania</td>\n",
       "      <td>1987</td>\n",
       "      <td>male</td>\n",
       "      <td>25-34</td>\n",
       "      <td>9</td>\n",
       "      <td>274300</td>\n",
       "      <td>3.28</td>\n",
       "      <td>2,156,624,900</td>\n",
       "      <td>796</td>\n",
       "      <td>Boomers</td>\n",
       "    </tr>\n",
       "  </tbody>\n",
       "</table>\n",
       "</div>"
      ],
      "text/plain": [
       "   country  year     sex    age  suicides_no  population  suicides/100k pop  \\\n",
       "0  Albania  1987    male  15-24           21      312900               6.71   \n",
       "1  Albania  1987    male  35-54           16      308000               5.19   \n",
       "2  Albania  1987  female  15-24           14      289700               4.83   \n",
       "3  Albania  1987    male    75+            1       21800               4.59   \n",
       "4  Albania  1987    male  25-34            9      274300               3.28   \n",
       "\n",
       "   gdp_for_year ($)   gdp_per_capita ($)       generation  \n",
       "0      2,156,624,900                 796     Generation X  \n",
       "1      2,156,624,900                 796           Silent  \n",
       "2      2,156,624,900                 796     Generation X  \n",
       "3      2,156,624,900                 796  G.I. Generation  \n",
       "4      2,156,624,900                 796          Boomers  "
      ]
     },
     "execution_count": 20,
     "metadata": {},
     "output_type": "execute_result"
    }
   ],
   "source": [
    "dataset.head()"
   ]
  },
  {
   "cell_type": "code",
   "execution_count": 21,
   "metadata": {
    "collapsed": false
   },
   "outputs": [],
   "source": [
    "#one hot encode 'sex' feature"
   ]
  },
  {
   "cell_type": "code",
   "execution_count": 22,
   "metadata": {
    "collapsed": true
   },
   "outputs": [],
   "source": [
    "gender = pd.get_dummies(dataset['sex'],drop_first=True)\n"
   ]
  },
  {
   "cell_type": "code",
   "execution_count": 23,
   "metadata": {
    "collapsed": false
   },
   "outputs": [],
   "source": [
    "dataset = pd.concat([dataset,gender],axis=1)"
   ]
  },
  {
   "cell_type": "code",
   "execution_count": 24,
   "metadata": {
    "collapsed": false
   },
   "outputs": [],
   "source": [
    "dataset.drop('sex',axis=1,inplace=True)"
   ]
  },
  {
   "cell_type": "code",
   "execution_count": 25,
   "metadata": {
    "collapsed": false
   },
   "outputs": [],
   "source": [
    "# age bins are converted into means\n",
    "def means(arr):\n",
    "    return str(np.array(arr).mean())\n",
    "dataset.age.replace(['15-24', '25-34', '35-54', '5-14', '55-74', '75+'], \n",
    "                 [means([15, 24]), means([25, 34]), means([35, 54]), \n",
    "                  means([5, 14]), means([55, 74]), means([75])], inplace=True)"
   ]
  },
  {
   "cell_type": "code",
   "execution_count": 26,
   "metadata": {
    "collapsed": false
   },
   "outputs": [],
   "source": [
    "#dropping column country because it is not useful\n",
    "dataset.drop('country',axis=1,inplace=True)"
   ]
  },
  {
   "cell_type": "code",
   "execution_count": 27,
   "metadata": {
    "collapsed": false
   },
   "outputs": [
    {
     "data": {
      "text/html": [
       "<div>\n",
       "<table border=\"1\" class=\"dataframe\">\n",
       "  <thead>\n",
       "    <tr style=\"text-align: right;\">\n",
       "      <th></th>\n",
       "      <th>year</th>\n",
       "      <th>age</th>\n",
       "      <th>suicides_no</th>\n",
       "      <th>population</th>\n",
       "      <th>suicides/100k pop</th>\n",
       "      <th>gdp_for_year ($)</th>\n",
       "      <th>gdp_per_capita ($)</th>\n",
       "      <th>generation</th>\n",
       "      <th>male</th>\n",
       "    </tr>\n",
       "  </thead>\n",
       "  <tbody>\n",
       "    <tr>\n",
       "      <th>0</th>\n",
       "      <td>1987</td>\n",
       "      <td>19.5</td>\n",
       "      <td>21</td>\n",
       "      <td>312900</td>\n",
       "      <td>6.71</td>\n",
       "      <td>2,156,624,900</td>\n",
       "      <td>796</td>\n",
       "      <td>Generation X</td>\n",
       "      <td>1</td>\n",
       "    </tr>\n",
       "    <tr>\n",
       "      <th>1</th>\n",
       "      <td>1987</td>\n",
       "      <td>44.5</td>\n",
       "      <td>16</td>\n",
       "      <td>308000</td>\n",
       "      <td>5.19</td>\n",
       "      <td>2,156,624,900</td>\n",
       "      <td>796</td>\n",
       "      <td>Silent</td>\n",
       "      <td>1</td>\n",
       "    </tr>\n",
       "    <tr>\n",
       "      <th>2</th>\n",
       "      <td>1987</td>\n",
       "      <td>19.5</td>\n",
       "      <td>14</td>\n",
       "      <td>289700</td>\n",
       "      <td>4.83</td>\n",
       "      <td>2,156,624,900</td>\n",
       "      <td>796</td>\n",
       "      <td>Generation X</td>\n",
       "      <td>0</td>\n",
       "    </tr>\n",
       "    <tr>\n",
       "      <th>3</th>\n",
       "      <td>1987</td>\n",
       "      <td>75.0</td>\n",
       "      <td>1</td>\n",
       "      <td>21800</td>\n",
       "      <td>4.59</td>\n",
       "      <td>2,156,624,900</td>\n",
       "      <td>796</td>\n",
       "      <td>G.I. Generation</td>\n",
       "      <td>1</td>\n",
       "    </tr>\n",
       "    <tr>\n",
       "      <th>4</th>\n",
       "      <td>1987</td>\n",
       "      <td>29.5</td>\n",
       "      <td>9</td>\n",
       "      <td>274300</td>\n",
       "      <td>3.28</td>\n",
       "      <td>2,156,624,900</td>\n",
       "      <td>796</td>\n",
       "      <td>Boomers</td>\n",
       "      <td>1</td>\n",
       "    </tr>\n",
       "    <tr>\n",
       "      <th>5</th>\n",
       "      <td>1987</td>\n",
       "      <td>75.0</td>\n",
       "      <td>1</td>\n",
       "      <td>35600</td>\n",
       "      <td>2.81</td>\n",
       "      <td>2,156,624,900</td>\n",
       "      <td>796</td>\n",
       "      <td>G.I. Generation</td>\n",
       "      <td>0</td>\n",
       "    </tr>\n",
       "    <tr>\n",
       "      <th>6</th>\n",
       "      <td>1987</td>\n",
       "      <td>44.5</td>\n",
       "      <td>6</td>\n",
       "      <td>278800</td>\n",
       "      <td>2.15</td>\n",
       "      <td>2,156,624,900</td>\n",
       "      <td>796</td>\n",
       "      <td>Silent</td>\n",
       "      <td>0</td>\n",
       "    </tr>\n",
       "    <tr>\n",
       "      <th>7</th>\n",
       "      <td>1987</td>\n",
       "      <td>29.5</td>\n",
       "      <td>4</td>\n",
       "      <td>257200</td>\n",
       "      <td>1.56</td>\n",
       "      <td>2,156,624,900</td>\n",
       "      <td>796</td>\n",
       "      <td>Boomers</td>\n",
       "      <td>0</td>\n",
       "    </tr>\n",
       "    <tr>\n",
       "      <th>8</th>\n",
       "      <td>1987</td>\n",
       "      <td>64.5</td>\n",
       "      <td>1</td>\n",
       "      <td>137500</td>\n",
       "      <td>0.73</td>\n",
       "      <td>2,156,624,900</td>\n",
       "      <td>796</td>\n",
       "      <td>G.I. Generation</td>\n",
       "      <td>1</td>\n",
       "    </tr>\n",
       "    <tr>\n",
       "      <th>9</th>\n",
       "      <td>1987</td>\n",
       "      <td>9.5</td>\n",
       "      <td>0</td>\n",
       "      <td>311000</td>\n",
       "      <td>0.00</td>\n",
       "      <td>2,156,624,900</td>\n",
       "      <td>796</td>\n",
       "      <td>Generation X</td>\n",
       "      <td>0</td>\n",
       "    </tr>\n",
       "    <tr>\n",
       "      <th>10</th>\n",
       "      <td>1987</td>\n",
       "      <td>64.5</td>\n",
       "      <td>0</td>\n",
       "      <td>144600</td>\n",
       "      <td>0.00</td>\n",
       "      <td>2,156,624,900</td>\n",
       "      <td>796</td>\n",
       "      <td>G.I. Generation</td>\n",
       "      <td>0</td>\n",
       "    </tr>\n",
       "    <tr>\n",
       "      <th>11</th>\n",
       "      <td>1987</td>\n",
       "      <td>9.5</td>\n",
       "      <td>0</td>\n",
       "      <td>338200</td>\n",
       "      <td>0.00</td>\n",
       "      <td>2,156,624,900</td>\n",
       "      <td>796</td>\n",
       "      <td>Generation X</td>\n",
       "      <td>1</td>\n",
       "    </tr>\n",
       "    <tr>\n",
       "      <th>12</th>\n",
       "      <td>1988</td>\n",
       "      <td>75.0</td>\n",
       "      <td>2</td>\n",
       "      <td>36400</td>\n",
       "      <td>5.49</td>\n",
       "      <td>2,126,000,000</td>\n",
       "      <td>769</td>\n",
       "      <td>G.I. Generation</td>\n",
       "      <td>0</td>\n",
       "    </tr>\n",
       "    <tr>\n",
       "      <th>13</th>\n",
       "      <td>1988</td>\n",
       "      <td>19.5</td>\n",
       "      <td>17</td>\n",
       "      <td>319200</td>\n",
       "      <td>5.33</td>\n",
       "      <td>2,126,000,000</td>\n",
       "      <td>769</td>\n",
       "      <td>Generation X</td>\n",
       "      <td>1</td>\n",
       "    </tr>\n",
       "    <tr>\n",
       "      <th>14</th>\n",
       "      <td>1988</td>\n",
       "      <td>75.0</td>\n",
       "      <td>1</td>\n",
       "      <td>22300</td>\n",
       "      <td>4.48</td>\n",
       "      <td>2,126,000,000</td>\n",
       "      <td>769</td>\n",
       "      <td>G.I. Generation</td>\n",
       "      <td>1</td>\n",
       "    </tr>\n",
       "    <tr>\n",
       "      <th>15</th>\n",
       "      <td>1988</td>\n",
       "      <td>44.5</td>\n",
       "      <td>14</td>\n",
       "      <td>314100</td>\n",
       "      <td>4.46</td>\n",
       "      <td>2,126,000,000</td>\n",
       "      <td>769</td>\n",
       "      <td>Silent</td>\n",
       "      <td>1</td>\n",
       "    </tr>\n",
       "    <tr>\n",
       "      <th>16</th>\n",
       "      <td>1988</td>\n",
       "      <td>64.5</td>\n",
       "      <td>4</td>\n",
       "      <td>140200</td>\n",
       "      <td>2.85</td>\n",
       "      <td>2,126,000,000</td>\n",
       "      <td>769</td>\n",
       "      <td>G.I. Generation</td>\n",
       "      <td>1</td>\n",
       "    </tr>\n",
       "    <tr>\n",
       "      <th>17</th>\n",
       "      <td>1988</td>\n",
       "      <td>19.5</td>\n",
       "      <td>8</td>\n",
       "      <td>295600</td>\n",
       "      <td>2.71</td>\n",
       "      <td>2,126,000,000</td>\n",
       "      <td>769</td>\n",
       "      <td>Generation X</td>\n",
       "      <td>0</td>\n",
       "    </tr>\n",
       "    <tr>\n",
       "      <th>18</th>\n",
       "      <td>1988</td>\n",
       "      <td>64.5</td>\n",
       "      <td>3</td>\n",
       "      <td>147500</td>\n",
       "      <td>2.03</td>\n",
       "      <td>2,126,000,000</td>\n",
       "      <td>769</td>\n",
       "      <td>G.I. Generation</td>\n",
       "      <td>0</td>\n",
       "    </tr>\n",
       "    <tr>\n",
       "      <th>19</th>\n",
       "      <td>1988</td>\n",
       "      <td>29.5</td>\n",
       "      <td>5</td>\n",
       "      <td>262400</td>\n",
       "      <td>1.91</td>\n",
       "      <td>2,126,000,000</td>\n",
       "      <td>769</td>\n",
       "      <td>Boomers</td>\n",
       "      <td>0</td>\n",
       "    </tr>\n",
       "    <tr>\n",
       "      <th>20</th>\n",
       "      <td>1988</td>\n",
       "      <td>29.5</td>\n",
       "      <td>5</td>\n",
       "      <td>279900</td>\n",
       "      <td>1.79</td>\n",
       "      <td>2,126,000,000</td>\n",
       "      <td>769</td>\n",
       "      <td>Boomers</td>\n",
       "      <td>1</td>\n",
       "    </tr>\n",
       "    <tr>\n",
       "      <th>21</th>\n",
       "      <td>1988</td>\n",
       "      <td>44.5</td>\n",
       "      <td>4</td>\n",
       "      <td>284500</td>\n",
       "      <td>1.41</td>\n",
       "      <td>2,126,000,000</td>\n",
       "      <td>769</td>\n",
       "      <td>Silent</td>\n",
       "      <td>0</td>\n",
       "    </tr>\n",
       "    <tr>\n",
       "      <th>22</th>\n",
       "      <td>1988</td>\n",
       "      <td>9.5</td>\n",
       "      <td>0</td>\n",
       "      <td>317200</td>\n",
       "      <td>0.00</td>\n",
       "      <td>2,126,000,000</td>\n",
       "      <td>769</td>\n",
       "      <td>Generation X</td>\n",
       "      <td>0</td>\n",
       "    </tr>\n",
       "    <tr>\n",
       "      <th>23</th>\n",
       "      <td>1988</td>\n",
       "      <td>9.5</td>\n",
       "      <td>0</td>\n",
       "      <td>345000</td>\n",
       "      <td>0.00</td>\n",
       "      <td>2,126,000,000</td>\n",
       "      <td>769</td>\n",
       "      <td>Generation X</td>\n",
       "      <td>1</td>\n",
       "    </tr>\n",
       "    <tr>\n",
       "      <th>24</th>\n",
       "      <td>1989</td>\n",
       "      <td>75.0</td>\n",
       "      <td>2</td>\n",
       "      <td>22500</td>\n",
       "      <td>8.89</td>\n",
       "      <td>2,335,124,988</td>\n",
       "      <td>833</td>\n",
       "      <td>G.I. Generation</td>\n",
       "      <td>1</td>\n",
       "    </tr>\n",
       "    <tr>\n",
       "      <th>25</th>\n",
       "      <td>1989</td>\n",
       "      <td>29.5</td>\n",
       "      <td>18</td>\n",
       "      <td>283600</td>\n",
       "      <td>6.35</td>\n",
       "      <td>2,335,124,988</td>\n",
       "      <td>833</td>\n",
       "      <td>Boomers</td>\n",
       "      <td>1</td>\n",
       "    </tr>\n",
       "    <tr>\n",
       "      <th>26</th>\n",
       "      <td>1989</td>\n",
       "      <td>44.5</td>\n",
       "      <td>15</td>\n",
       "      <td>318400</td>\n",
       "      <td>4.71</td>\n",
       "      <td>2,335,124,988</td>\n",
       "      <td>833</td>\n",
       "      <td>Silent</td>\n",
       "      <td>1</td>\n",
       "    </tr>\n",
       "    <tr>\n",
       "      <th>27</th>\n",
       "      <td>1989</td>\n",
       "      <td>64.5</td>\n",
       "      <td>6</td>\n",
       "      <td>142100</td>\n",
       "      <td>4.22</td>\n",
       "      <td>2,335,124,988</td>\n",
       "      <td>833</td>\n",
       "      <td>G.I. Generation</td>\n",
       "      <td>1</td>\n",
       "    </tr>\n",
       "    <tr>\n",
       "      <th>28</th>\n",
       "      <td>1989</td>\n",
       "      <td>19.5</td>\n",
       "      <td>12</td>\n",
       "      <td>323500</td>\n",
       "      <td>3.71</td>\n",
       "      <td>2,335,124,988</td>\n",
       "      <td>833</td>\n",
       "      <td>Generation X</td>\n",
       "      <td>1</td>\n",
       "    </tr>\n",
       "    <tr>\n",
       "      <th>29</th>\n",
       "      <td>1989</td>\n",
       "      <td>44.5</td>\n",
       "      <td>7</td>\n",
       "      <td>288600</td>\n",
       "      <td>2.43</td>\n",
       "      <td>2,335,124,988</td>\n",
       "      <td>833</td>\n",
       "      <td>Silent</td>\n",
       "      <td>0</td>\n",
       "    </tr>\n",
       "    <tr>\n",
       "      <th>...</th>\n",
       "      <td>...</td>\n",
       "      <td>...</td>\n",
       "      <td>...</td>\n",
       "      <td>...</td>\n",
       "      <td>...</td>\n",
       "      <td>...</td>\n",
       "      <td>...</td>\n",
       "      <td>...</td>\n",
       "      <td>...</td>\n",
       "    </tr>\n",
       "    <tr>\n",
       "      <th>27790</th>\n",
       "      <td>2012</td>\n",
       "      <td>29.5</td>\n",
       "      <td>148</td>\n",
       "      <td>2556673</td>\n",
       "      <td>5.79</td>\n",
       "      <td>51,821,573,338</td>\n",
       "      <td>1964</td>\n",
       "      <td>Millenials</td>\n",
       "      <td>0</td>\n",
       "    </tr>\n",
       "    <tr>\n",
       "      <th>27791</th>\n",
       "      <td>2012</td>\n",
       "      <td>44.5</td>\n",
       "      <td>89</td>\n",
       "      <td>3474788</td>\n",
       "      <td>2.56</td>\n",
       "      <td>51,821,573,338</td>\n",
       "      <td>1964</td>\n",
       "      <td>Generation X</td>\n",
       "      <td>0</td>\n",
       "    </tr>\n",
       "    <tr>\n",
       "      <th>27792</th>\n",
       "      <td>2012</td>\n",
       "      <td>9.5</td>\n",
       "      <td>67</td>\n",
       "      <td>2701361</td>\n",
       "      <td>2.48</td>\n",
       "      <td>51,821,573,338</td>\n",
       "      <td>1964</td>\n",
       "      <td>Generation Z</td>\n",
       "      <td>1</td>\n",
       "    </tr>\n",
       "    <tr>\n",
       "      <th>27793</th>\n",
       "      <td>2012</td>\n",
       "      <td>64.5</td>\n",
       "      <td>25</td>\n",
       "      <td>1283060</td>\n",
       "      <td>1.95</td>\n",
       "      <td>51,821,573,338</td>\n",
       "      <td>1964</td>\n",
       "      <td>Boomers</td>\n",
       "      <td>0</td>\n",
       "    </tr>\n",
       "    <tr>\n",
       "      <th>27794</th>\n",
       "      <td>2012</td>\n",
       "      <td>75.0</td>\n",
       "      <td>4</td>\n",
       "      <td>338557</td>\n",
       "      <td>1.18</td>\n",
       "      <td>51,821,573,338</td>\n",
       "      <td>1964</td>\n",
       "      <td>Silent</td>\n",
       "      <td>0</td>\n",
       "    </tr>\n",
       "    <tr>\n",
       "      <th>27795</th>\n",
       "      <td>2012</td>\n",
       "      <td>9.5</td>\n",
       "      <td>16</td>\n",
       "      <td>2578408</td>\n",
       "      <td>0.62</td>\n",
       "      <td>51,821,573,338</td>\n",
       "      <td>1964</td>\n",
       "      <td>Generation Z</td>\n",
       "      <td>0</td>\n",
       "    </tr>\n",
       "    <tr>\n",
       "      <th>27796</th>\n",
       "      <td>2013</td>\n",
       "      <td>44.5</td>\n",
       "      <td>481</td>\n",
       "      <td>3346411</td>\n",
       "      <td>14.37</td>\n",
       "      <td>57,690,453,461</td>\n",
       "      <td>2150</td>\n",
       "      <td>Generation X</td>\n",
       "      <td>1</td>\n",
       "    </tr>\n",
       "    <tr>\n",
       "      <th>27797</th>\n",
       "      <td>2013</td>\n",
       "      <td>29.5</td>\n",
       "      <td>328</td>\n",
       "      <td>2644648</td>\n",
       "      <td>12.40</td>\n",
       "      <td>57,690,453,461</td>\n",
       "      <td>2150</td>\n",
       "      <td>Millenials</td>\n",
       "      <td>1</td>\n",
       "    </tr>\n",
       "    <tr>\n",
       "      <th>27798</th>\n",
       "      <td>2013</td>\n",
       "      <td>19.5</td>\n",
       "      <td>323</td>\n",
       "      <td>3039740</td>\n",
       "      <td>10.63</td>\n",
       "      <td>57,690,453,461</td>\n",
       "      <td>2150</td>\n",
       "      <td>Millenials</td>\n",
       "      <td>0</td>\n",
       "    </tr>\n",
       "    <tr>\n",
       "      <th>27799</th>\n",
       "      <td>2013</td>\n",
       "      <td>19.5</td>\n",
       "      <td>320</td>\n",
       "      <td>3171202</td>\n",
       "      <td>10.09</td>\n",
       "      <td>57,690,453,461</td>\n",
       "      <td>2150</td>\n",
       "      <td>Millenials</td>\n",
       "      <td>1</td>\n",
       "    </tr>\n",
       "    <tr>\n",
       "      <th>27800</th>\n",
       "      <td>2013</td>\n",
       "      <td>64.5</td>\n",
       "      <td>119</td>\n",
       "      <td>1202790</td>\n",
       "      <td>9.89</td>\n",
       "      <td>57,690,453,461</td>\n",
       "      <td>2150</td>\n",
       "      <td>Boomers</td>\n",
       "      <td>1</td>\n",
       "    </tr>\n",
       "    <tr>\n",
       "      <th>27801</th>\n",
       "      <td>2013</td>\n",
       "      <td>75.0</td>\n",
       "      <td>13</td>\n",
       "      <td>221002</td>\n",
       "      <td>5.88</td>\n",
       "      <td>57,690,453,461</td>\n",
       "      <td>2150</td>\n",
       "      <td>Silent</td>\n",
       "      <td>1</td>\n",
       "    </tr>\n",
       "    <tr>\n",
       "      <th>27802</th>\n",
       "      <td>2013</td>\n",
       "      <td>29.5</td>\n",
       "      <td>146</td>\n",
       "      <td>2647820</td>\n",
       "      <td>5.51</td>\n",
       "      <td>57,690,453,461</td>\n",
       "      <td>2150</td>\n",
       "      <td>Millenials</td>\n",
       "      <td>0</td>\n",
       "    </tr>\n",
       "    <tr>\n",
       "      <th>27803</th>\n",
       "      <td>2013</td>\n",
       "      <td>44.5</td>\n",
       "      <td>99</td>\n",
       "      <td>3547895</td>\n",
       "      <td>2.79</td>\n",
       "      <td>57,690,453,461</td>\n",
       "      <td>2150</td>\n",
       "      <td>Generation X</td>\n",
       "      <td>0</td>\n",
       "    </tr>\n",
       "    <tr>\n",
       "      <th>27804</th>\n",
       "      <td>2013</td>\n",
       "      <td>75.0</td>\n",
       "      <td>8</td>\n",
       "      <td>345180</td>\n",
       "      <td>2.32</td>\n",
       "      <td>57,690,453,461</td>\n",
       "      <td>2150</td>\n",
       "      <td>Silent</td>\n",
       "      <td>0</td>\n",
       "    </tr>\n",
       "    <tr>\n",
       "      <th>27805</th>\n",
       "      <td>2013</td>\n",
       "      <td>9.5</td>\n",
       "      <td>61</td>\n",
       "      <td>2720938</td>\n",
       "      <td>2.24</td>\n",
       "      <td>57,690,453,461</td>\n",
       "      <td>2150</td>\n",
       "      <td>Generation Z</td>\n",
       "      <td>1</td>\n",
       "    </tr>\n",
       "    <tr>\n",
       "      <th>27806</th>\n",
       "      <td>2013</td>\n",
       "      <td>64.5</td>\n",
       "      <td>21</td>\n",
       "      <td>1356298</td>\n",
       "      <td>1.55</td>\n",
       "      <td>57,690,453,461</td>\n",
       "      <td>2150</td>\n",
       "      <td>Boomers</td>\n",
       "      <td>0</td>\n",
       "    </tr>\n",
       "    <tr>\n",
       "      <th>27807</th>\n",
       "      <td>2013</td>\n",
       "      <td>9.5</td>\n",
       "      <td>31</td>\n",
       "      <td>2595000</td>\n",
       "      <td>1.19</td>\n",
       "      <td>57,690,453,461</td>\n",
       "      <td>2150</td>\n",
       "      <td>Generation Z</td>\n",
       "      <td>0</td>\n",
       "    </tr>\n",
       "    <tr>\n",
       "      <th>27808</th>\n",
       "      <td>2014</td>\n",
       "      <td>44.5</td>\n",
       "      <td>519</td>\n",
       "      <td>3421300</td>\n",
       "      <td>15.17</td>\n",
       "      <td>63,067,077,179</td>\n",
       "      <td>2309</td>\n",
       "      <td>Generation X</td>\n",
       "      <td>1</td>\n",
       "    </tr>\n",
       "    <tr>\n",
       "      <th>27809</th>\n",
       "      <td>2014</td>\n",
       "      <td>29.5</td>\n",
       "      <td>318</td>\n",
       "      <td>2739150</td>\n",
       "      <td>11.61</td>\n",
       "      <td>63,067,077,179</td>\n",
       "      <td>2309</td>\n",
       "      <td>Millenials</td>\n",
       "      <td>1</td>\n",
       "    </tr>\n",
       "    <tr>\n",
       "      <th>27810</th>\n",
       "      <td>2014</td>\n",
       "      <td>19.5</td>\n",
       "      <td>347</td>\n",
       "      <td>2992817</td>\n",
       "      <td>11.59</td>\n",
       "      <td>63,067,077,179</td>\n",
       "      <td>2309</td>\n",
       "      <td>Millenials</td>\n",
       "      <td>0</td>\n",
       "    </tr>\n",
       "    <tr>\n",
       "      <th>27811</th>\n",
       "      <td>2014</td>\n",
       "      <td>64.5</td>\n",
       "      <td>144</td>\n",
       "      <td>1271111</td>\n",
       "      <td>11.33</td>\n",
       "      <td>63,067,077,179</td>\n",
       "      <td>2309</td>\n",
       "      <td>Boomers</td>\n",
       "      <td>1</td>\n",
       "    </tr>\n",
       "    <tr>\n",
       "      <th>27812</th>\n",
       "      <td>2014</td>\n",
       "      <td>19.5</td>\n",
       "      <td>347</td>\n",
       "      <td>3126905</td>\n",
       "      <td>11.10</td>\n",
       "      <td>63,067,077,179</td>\n",
       "      <td>2309</td>\n",
       "      <td>Millenials</td>\n",
       "      <td>1</td>\n",
       "    </tr>\n",
       "    <tr>\n",
       "      <th>27813</th>\n",
       "      <td>2014</td>\n",
       "      <td>75.0</td>\n",
       "      <td>17</td>\n",
       "      <td>224995</td>\n",
       "      <td>7.56</td>\n",
       "      <td>63,067,077,179</td>\n",
       "      <td>2309</td>\n",
       "      <td>Silent</td>\n",
       "      <td>1</td>\n",
       "    </tr>\n",
       "    <tr>\n",
       "      <th>27814</th>\n",
       "      <td>2014</td>\n",
       "      <td>29.5</td>\n",
       "      <td>162</td>\n",
       "      <td>2735238</td>\n",
       "      <td>5.92</td>\n",
       "      <td>63,067,077,179</td>\n",
       "      <td>2309</td>\n",
       "      <td>Millenials</td>\n",
       "      <td>0</td>\n",
       "    </tr>\n",
       "    <tr>\n",
       "      <th>27815</th>\n",
       "      <td>2014</td>\n",
       "      <td>44.5</td>\n",
       "      <td>107</td>\n",
       "      <td>3620833</td>\n",
       "      <td>2.96</td>\n",
       "      <td>63,067,077,179</td>\n",
       "      <td>2309</td>\n",
       "      <td>Generation X</td>\n",
       "      <td>0</td>\n",
       "    </tr>\n",
       "    <tr>\n",
       "      <th>27816</th>\n",
       "      <td>2014</td>\n",
       "      <td>75.0</td>\n",
       "      <td>9</td>\n",
       "      <td>348465</td>\n",
       "      <td>2.58</td>\n",
       "      <td>63,067,077,179</td>\n",
       "      <td>2309</td>\n",
       "      <td>Silent</td>\n",
       "      <td>0</td>\n",
       "    </tr>\n",
       "    <tr>\n",
       "      <th>27817</th>\n",
       "      <td>2014</td>\n",
       "      <td>9.5</td>\n",
       "      <td>60</td>\n",
       "      <td>2762158</td>\n",
       "      <td>2.17</td>\n",
       "      <td>63,067,077,179</td>\n",
       "      <td>2309</td>\n",
       "      <td>Generation Z</td>\n",
       "      <td>1</td>\n",
       "    </tr>\n",
       "    <tr>\n",
       "      <th>27818</th>\n",
       "      <td>2014</td>\n",
       "      <td>9.5</td>\n",
       "      <td>44</td>\n",
       "      <td>2631600</td>\n",
       "      <td>1.67</td>\n",
       "      <td>63,067,077,179</td>\n",
       "      <td>2309</td>\n",
       "      <td>Generation Z</td>\n",
       "      <td>0</td>\n",
       "    </tr>\n",
       "    <tr>\n",
       "      <th>27819</th>\n",
       "      <td>2014</td>\n",
       "      <td>64.5</td>\n",
       "      <td>21</td>\n",
       "      <td>1438935</td>\n",
       "      <td>1.46</td>\n",
       "      <td>63,067,077,179</td>\n",
       "      <td>2309</td>\n",
       "      <td>Boomers</td>\n",
       "      <td>0</td>\n",
       "    </tr>\n",
       "  </tbody>\n",
       "</table>\n",
       "<p>27820 rows × 9 columns</p>\n",
       "</div>"
      ],
      "text/plain": [
       "       year   age  suicides_no  population  suicides/100k pop  \\\n",
       "0      1987  19.5           21      312900               6.71   \n",
       "1      1987  44.5           16      308000               5.19   \n",
       "2      1987  19.5           14      289700               4.83   \n",
       "3      1987  75.0            1       21800               4.59   \n",
       "4      1987  29.5            9      274300               3.28   \n",
       "5      1987  75.0            1       35600               2.81   \n",
       "6      1987  44.5            6      278800               2.15   \n",
       "7      1987  29.5            4      257200               1.56   \n",
       "8      1987  64.5            1      137500               0.73   \n",
       "9      1987   9.5            0      311000               0.00   \n",
       "10     1987  64.5            0      144600               0.00   \n",
       "11     1987   9.5            0      338200               0.00   \n",
       "12     1988  75.0            2       36400               5.49   \n",
       "13     1988  19.5           17      319200               5.33   \n",
       "14     1988  75.0            1       22300               4.48   \n",
       "15     1988  44.5           14      314100               4.46   \n",
       "16     1988  64.5            4      140200               2.85   \n",
       "17     1988  19.5            8      295600               2.71   \n",
       "18     1988  64.5            3      147500               2.03   \n",
       "19     1988  29.5            5      262400               1.91   \n",
       "20     1988  29.5            5      279900               1.79   \n",
       "21     1988  44.5            4      284500               1.41   \n",
       "22     1988   9.5            0      317200               0.00   \n",
       "23     1988   9.5            0      345000               0.00   \n",
       "24     1989  75.0            2       22500               8.89   \n",
       "25     1989  29.5           18      283600               6.35   \n",
       "26     1989  44.5           15      318400               4.71   \n",
       "27     1989  64.5            6      142100               4.22   \n",
       "28     1989  19.5           12      323500               3.71   \n",
       "29     1989  44.5            7      288600               2.43   \n",
       "...     ...   ...          ...         ...                ...   \n",
       "27790  2012  29.5          148     2556673               5.79   \n",
       "27791  2012  44.5           89     3474788               2.56   \n",
       "27792  2012   9.5           67     2701361               2.48   \n",
       "27793  2012  64.5           25     1283060               1.95   \n",
       "27794  2012  75.0            4      338557               1.18   \n",
       "27795  2012   9.5           16     2578408               0.62   \n",
       "27796  2013  44.5          481     3346411              14.37   \n",
       "27797  2013  29.5          328     2644648              12.40   \n",
       "27798  2013  19.5          323     3039740              10.63   \n",
       "27799  2013  19.5          320     3171202              10.09   \n",
       "27800  2013  64.5          119     1202790               9.89   \n",
       "27801  2013  75.0           13      221002               5.88   \n",
       "27802  2013  29.5          146     2647820               5.51   \n",
       "27803  2013  44.5           99     3547895               2.79   \n",
       "27804  2013  75.0            8      345180               2.32   \n",
       "27805  2013   9.5           61     2720938               2.24   \n",
       "27806  2013  64.5           21     1356298               1.55   \n",
       "27807  2013   9.5           31     2595000               1.19   \n",
       "27808  2014  44.5          519     3421300              15.17   \n",
       "27809  2014  29.5          318     2739150              11.61   \n",
       "27810  2014  19.5          347     2992817              11.59   \n",
       "27811  2014  64.5          144     1271111              11.33   \n",
       "27812  2014  19.5          347     3126905              11.10   \n",
       "27813  2014  75.0           17      224995               7.56   \n",
       "27814  2014  29.5          162     2735238               5.92   \n",
       "27815  2014  44.5          107     3620833               2.96   \n",
       "27816  2014  75.0            9      348465               2.58   \n",
       "27817  2014   9.5           60     2762158               2.17   \n",
       "27818  2014   9.5           44     2631600               1.67   \n",
       "27819  2014  64.5           21     1438935               1.46   \n",
       "\n",
       "       gdp_for_year ($)   gdp_per_capita ($)       generation  male  \n",
       "0          2,156,624,900                 796     Generation X     1  \n",
       "1          2,156,624,900                 796           Silent     1  \n",
       "2          2,156,624,900                 796     Generation X     0  \n",
       "3          2,156,624,900                 796  G.I. Generation     1  \n",
       "4          2,156,624,900                 796          Boomers     1  \n",
       "5          2,156,624,900                 796  G.I. Generation     0  \n",
       "6          2,156,624,900                 796           Silent     0  \n",
       "7          2,156,624,900                 796          Boomers     0  \n",
       "8          2,156,624,900                 796  G.I. Generation     1  \n",
       "9          2,156,624,900                 796     Generation X     0  \n",
       "10         2,156,624,900                 796  G.I. Generation     0  \n",
       "11         2,156,624,900                 796     Generation X     1  \n",
       "12         2,126,000,000                 769  G.I. Generation     0  \n",
       "13         2,126,000,000                 769     Generation X     1  \n",
       "14         2,126,000,000                 769  G.I. Generation     1  \n",
       "15         2,126,000,000                 769           Silent     1  \n",
       "16         2,126,000,000                 769  G.I. Generation     1  \n",
       "17         2,126,000,000                 769     Generation X     0  \n",
       "18         2,126,000,000                 769  G.I. Generation     0  \n",
       "19         2,126,000,000                 769          Boomers     0  \n",
       "20         2,126,000,000                 769          Boomers     1  \n",
       "21         2,126,000,000                 769           Silent     0  \n",
       "22         2,126,000,000                 769     Generation X     0  \n",
       "23         2,126,000,000                 769     Generation X     1  \n",
       "24         2,335,124,988                 833  G.I. Generation     1  \n",
       "25         2,335,124,988                 833          Boomers     1  \n",
       "26         2,335,124,988                 833           Silent     1  \n",
       "27         2,335,124,988                 833  G.I. Generation     1  \n",
       "28         2,335,124,988                 833     Generation X     1  \n",
       "29         2,335,124,988                 833           Silent     0  \n",
       "...                  ...                 ...              ...   ...  \n",
       "27790     51,821,573,338                1964       Millenials     0  \n",
       "27791     51,821,573,338                1964     Generation X     0  \n",
       "27792     51,821,573,338                1964     Generation Z     1  \n",
       "27793     51,821,573,338                1964          Boomers     0  \n",
       "27794     51,821,573,338                1964           Silent     0  \n",
       "27795     51,821,573,338                1964     Generation Z     0  \n",
       "27796     57,690,453,461                2150     Generation X     1  \n",
       "27797     57,690,453,461                2150       Millenials     1  \n",
       "27798     57,690,453,461                2150       Millenials     0  \n",
       "27799     57,690,453,461                2150       Millenials     1  \n",
       "27800     57,690,453,461                2150          Boomers     1  \n",
       "27801     57,690,453,461                2150           Silent     1  \n",
       "27802     57,690,453,461                2150       Millenials     0  \n",
       "27803     57,690,453,461                2150     Generation X     0  \n",
       "27804     57,690,453,461                2150           Silent     0  \n",
       "27805     57,690,453,461                2150     Generation Z     1  \n",
       "27806     57,690,453,461                2150          Boomers     0  \n",
       "27807     57,690,453,461                2150     Generation Z     0  \n",
       "27808     63,067,077,179                2309     Generation X     1  \n",
       "27809     63,067,077,179                2309       Millenials     1  \n",
       "27810     63,067,077,179                2309       Millenials     0  \n",
       "27811     63,067,077,179                2309          Boomers     1  \n",
       "27812     63,067,077,179                2309       Millenials     1  \n",
       "27813     63,067,077,179                2309           Silent     1  \n",
       "27814     63,067,077,179                2309       Millenials     0  \n",
       "27815     63,067,077,179                2309     Generation X     0  \n",
       "27816     63,067,077,179                2309           Silent     0  \n",
       "27817     63,067,077,179                2309     Generation Z     1  \n",
       "27818     63,067,077,179                2309     Generation Z     0  \n",
       "27819     63,067,077,179                2309          Boomers     0  \n",
       "\n",
       "[27820 rows x 9 columns]"
      ]
     },
     "execution_count": 27,
     "metadata": {},
     "output_type": "execute_result"
    }
   ],
   "source": [
    "dataset"
   ]
  },
  {
   "cell_type": "markdown",
   "metadata": {},
   "source": [
    "# Encoding categorical variables"
   ]
  },
  {
   "cell_type": "code",
   "execution_count": 28,
   "metadata": {
    "collapsed": true
   },
   "outputs": [],
   "source": [
    "from sklearn.preprocessing import LabelEncoder\n",
    "le = LabelEncoder()\n",
    "dataset['generation'] = le.fit_transform(dataset['generation'])"
   ]
  },
  {
   "cell_type": "code",
   "execution_count": 29,
   "metadata": {
    "collapsed": true
   },
   "outputs": [],
   "source": [
    "#changing datatype to float\n",
    "dataset['age']=dataset['age'].astype(float)"
   ]
  },
  {
   "cell_type": "code",
   "execution_count": null,
   "metadata": {
    "collapsed": true
   },
   "outputs": [],
   "source": []
  },
  {
   "cell_type": "code",
   "execution_count": 30,
   "metadata": {
    "collapsed": false
   },
   "outputs": [],
   "source": [
    "#gdp for year column \n",
    "dataset.iloc[:,5] = dataset.iloc[:,5].apply(lambda x: float(x.split()[0].replace(',', '')))"
   ]
  },
  {
   "cell_type": "code",
   "execution_count": 31,
   "metadata": {
    "collapsed": false
   },
   "outputs": [],
   "source": [
    "dataset.iloc[:,5] = dataset.iloc[:,5].astype(float)"
   ]
  },
  {
   "cell_type": "code",
   "execution_count": 32,
   "metadata": {
    "collapsed": false
   },
   "outputs": [],
   "source": [
    "dataset.iloc[:,5] = dataset.iloc[:,5].astype(int)\n"
   ]
  },
  {
   "cell_type": "code",
   "execution_count": null,
   "metadata": {
    "collapsed": false
   },
   "outputs": [],
   "source": []
  },
  {
   "cell_type": "code",
   "execution_count": 33,
   "metadata": {
    "collapsed": false
   },
   "outputs": [],
   "source": [
    "X = dataset.iloc[:,dataset.columns!='generation']"
   ]
  },
  {
   "cell_type": "code",
   "execution_count": 34,
   "metadata": {
    "collapsed": false
   },
   "outputs": [],
   "source": [
    "y = dataset['generation']"
   ]
  },
  {
   "cell_type": "code",
   "execution_count": 35,
   "metadata": {
    "collapsed": false
   },
   "outputs": [
    {
     "data": {
      "text/plain": [
       "Index(['year', 'age', 'suicides_no', 'population', 'suicides/100k pop',\n",
       "       ' gdp_for_year ($) ', 'gdp_per_capita ($)', 'male'],\n",
       "      dtype='object')"
      ]
     },
     "execution_count": 35,
     "metadata": {},
     "output_type": "execute_result"
    }
   ],
   "source": [
    "col = X.columns\n",
    "col"
   ]
  },
  {
   "cell_type": "code",
   "execution_count": null,
   "metadata": {
    "collapsed": false
   },
   "outputs": [],
   "source": []
  },
  {
   "cell_type": "code",
   "execution_count": 36,
   "metadata": {
    "collapsed": false
   },
   "outputs": [],
   "source": [
    "from sklearn.preprocessing import StandardScaler\n",
    "sc = StandardScaler()\n",
    "X = sc.fit_transform(X)\n",
    "X = pd.DataFrame(X)"
   ]
  },
  {
   "cell_type": "code",
   "execution_count": 37,
   "metadata": {
    "collapsed": false
   },
   "outputs": [],
   "source": [
    "X.columns = col"
   ]
  },
  {
   "cell_type": "code",
   "execution_count": 38,
   "metadata": {
    "collapsed": false
   },
   "outputs": [
    {
     "data": {
      "text/html": [
       "<div>\n",
       "<table border=\"1\" class=\"dataframe\">\n",
       "  <thead>\n",
       "    <tr style=\"text-align: right;\">\n",
       "      <th></th>\n",
       "      <th>year</th>\n",
       "      <th>age</th>\n",
       "      <th>suicides_no</th>\n",
       "      <th>population</th>\n",
       "      <th>suicides/100k pop</th>\n",
       "      <th>gdp_for_year ($)</th>\n",
       "      <th>gdp_per_capita ($)</th>\n",
       "      <th>male</th>\n",
       "    </tr>\n",
       "  </thead>\n",
       "  <tbody>\n",
       "    <tr>\n",
       "      <th>0</th>\n",
       "      <td>-1.683615</td>\n",
       "      <td>-0.893081</td>\n",
       "      <td>-0.245639</td>\n",
       "      <td>-0.391617</td>\n",
       "      <td>-0.322032</td>\n",
       "      <td>-0.305056</td>\n",
       "      <td>-0.850864</td>\n",
       "      <td>1.0</td>\n",
       "    </tr>\n",
       "    <tr>\n",
       "      <th>1</th>\n",
       "      <td>-1.683615</td>\n",
       "      <td>0.172535</td>\n",
       "      <td>-0.251182</td>\n",
       "      <td>-0.392870</td>\n",
       "      <td>-0.402196</td>\n",
       "      <td>-0.305056</td>\n",
       "      <td>-0.850864</td>\n",
       "      <td>1.0</td>\n",
       "    </tr>\n",
       "    <tr>\n",
       "      <th>2</th>\n",
       "      <td>-1.683615</td>\n",
       "      <td>-0.893081</td>\n",
       "      <td>-0.253400</td>\n",
       "      <td>-0.397548</td>\n",
       "      <td>-0.421182</td>\n",
       "      <td>-0.305056</td>\n",
       "      <td>-0.850864</td>\n",
       "      <td>-1.0</td>\n",
       "    </tr>\n",
       "    <tr>\n",
       "      <th>3</th>\n",
       "      <td>-1.683615</td>\n",
       "      <td>1.472585</td>\n",
       "      <td>-0.267811</td>\n",
       "      <td>-0.466035</td>\n",
       "      <td>-0.433839</td>\n",
       "      <td>-0.305056</td>\n",
       "      <td>-0.850864</td>\n",
       "      <td>1.0</td>\n",
       "    </tr>\n",
       "    <tr>\n",
       "      <th>4</th>\n",
       "      <td>-1.683615</td>\n",
       "      <td>-0.466834</td>\n",
       "      <td>-0.258943</td>\n",
       "      <td>-0.401485</td>\n",
       "      <td>-0.502928</td>\n",
       "      <td>-0.305056</td>\n",
       "      <td>-0.850864</td>\n",
       "      <td>1.0</td>\n",
       "    </tr>\n",
       "  </tbody>\n",
       "</table>\n",
       "</div>"
      ],
      "text/plain": [
       "       year       age  suicides_no  population  suicides/100k pop  \\\n",
       "0 -1.683615 -0.893081    -0.245639   -0.391617          -0.322032   \n",
       "1 -1.683615  0.172535    -0.251182   -0.392870          -0.402196   \n",
       "2 -1.683615 -0.893081    -0.253400   -0.397548          -0.421182   \n",
       "3 -1.683615  1.472585    -0.267811   -0.466035          -0.433839   \n",
       "4 -1.683615 -0.466834    -0.258943   -0.401485          -0.502928   \n",
       "\n",
       "    gdp_for_year ($)   gdp_per_capita ($)  male  \n",
       "0           -0.305056           -0.850864   1.0  \n",
       "1           -0.305056           -0.850864   1.0  \n",
       "2           -0.305056           -0.850864  -1.0  \n",
       "3           -0.305056           -0.850864   1.0  \n",
       "4           -0.305056           -0.850864   1.0  "
      ]
     },
     "execution_count": 38,
     "metadata": {},
     "output_type": "execute_result"
    }
   ],
   "source": [
    "X.head()"
   ]
  },
  {
   "cell_type": "code",
   "execution_count": 39,
   "metadata": {
    "collapsed": false
   },
   "outputs": [
    {
     "data": {
      "text/plain": [
       "0    2\n",
       "1    5\n",
       "2    2\n",
       "3    1\n",
       "4    0\n",
       "Name: generation, dtype: int64"
      ]
     },
     "execution_count": 39,
     "metadata": {},
     "output_type": "execute_result"
    }
   ],
   "source": [
    "y.head()"
   ]
  },
  {
   "cell_type": "code",
   "execution_count": 40,
   "metadata": {
    "collapsed": true
   },
   "outputs": [],
   "source": [
    "from sklearn.model_selection import train_test_split\n",
    "X_train, X_test, y_train, y_test = train_test_split(X, y, test_size = 0.25, random_state = 0)"
   ]
  },
  {
   "cell_type": "code",
   "execution_count": 41,
   "metadata": {
    "collapsed": false
   },
   "outputs": [
    {
     "data": {
      "text/plain": [
       "((20865, 8), (6955, 8), (20865,), (6955,))"
      ]
     },
     "execution_count": 41,
     "metadata": {},
     "output_type": "execute_result"
    }
   ],
   "source": [
    "X_train.shape , X_test.shape, y_train.shape, y_test.shape"
   ]
  },
  {
   "cell_type": "markdown",
   "metadata": {},
   "source": [
    "# Fitting SVC "
   ]
  },
  {
   "cell_type": "code",
   "execution_count": 42,
   "metadata": {
    "collapsed": false
   },
   "outputs": [
    {
     "data": {
      "text/plain": [
       "SVC(C=1, cache_size=200, class_weight=None, coef0=0.0,\n",
       "  decision_function_shape=None, degree=3, gamma='auto', kernel='linear',\n",
       "  max_iter=-1, probability=False, random_state=None, shrinking=True,\n",
       "  tol=0.001, verbose=False)"
      ]
     },
     "execution_count": 42,
     "metadata": {},
     "output_type": "execute_result"
    }
   ],
   "source": [
    "from sklearn.svm import SVC \n",
    "classifier = SVC(kernel = 'linear', C = 1)\n",
    "classifier.fit(X_train, y_train) "
   ]
  },
  {
   "cell_type": "code",
   "execution_count": 43,
   "metadata": {
    "collapsed": true
   },
   "outputs": [],
   "source": [
    "y_pred = classifier.predict(X_test)"
   ]
  },
  {
   "cell_type": "code",
   "execution_count": 44,
   "metadata": {
    "collapsed": false
   },
   "outputs": [
    {
     "data": {
      "text/plain": [
       "0.995255212077642"
      ]
     },
     "execution_count": 44,
     "metadata": {},
     "output_type": "execute_result"
    }
   ],
   "source": [
    "from sklearn.metrics import accuracy_score\n",
    "accuracy_score(y_test,y_pred)"
   ]
  },
  {
   "cell_type": "markdown",
   "metadata": {},
   "source": [
    "# We got a very good accuracy and lets try with another model(DecisionTreeClassifier)"
   ]
  },
  {
   "cell_type": "code",
   "execution_count": 45,
   "metadata": {
    "collapsed": false
   },
   "outputs": [
    {
     "data": {
      "text/plain": [
       "DecisionTreeClassifier(class_weight=None, criterion='gini', max_depth=None,\n",
       "            max_features=None, max_leaf_nodes=None,\n",
       "            min_impurity_split=1e-07, min_samples_leaf=1,\n",
       "            min_samples_split=2, min_weight_fraction_leaf=0.0,\n",
       "            presort=False, random_state=None, splitter='best')"
      ]
     },
     "execution_count": 45,
     "metadata": {},
     "output_type": "execute_result"
    }
   ],
   "source": [
    "from sklearn.tree import DecisionTreeClassifier\n",
    "classi = DecisionTreeClassifier()\n",
    "classi.fit(X_train,y_train)"
   ]
  },
  {
   "cell_type": "code",
   "execution_count": 46,
   "metadata": {
    "collapsed": true
   },
   "outputs": [],
   "source": [
    "dec_pred = classi.predict(X_test)"
   ]
  },
  {
   "cell_type": "code",
   "execution_count": 47,
   "metadata": {
    "collapsed": false
   },
   "outputs": [
    {
     "data": {
      "text/plain": [
       "1.0"
      ]
     },
     "execution_count": 47,
     "metadata": {},
     "output_type": "execute_result"
    }
   ],
   "source": [
    "accuracy_score(y_test,dec_pred)"
   ]
  },
  {
   "cell_type": "markdown",
   "metadata": {
    "collapsed": false
   },
   "source": [
    "# Decision tree works very well , we got an accuracy of 1.0"
   ]
  }
 ],
 "metadata": {
  "kernelspec": {
   "display_name": "Python 3",
   "language": "python",
   "name": "python3"
  },
  "language_info": {
   "codemirror_mode": {
    "name": "ipython",
    "version": 3
   },
   "file_extension": ".py",
   "mimetype": "text/x-python",
   "name": "python",
   "nbconvert_exporter": "python",
   "pygments_lexer": "ipython3",
   "version": "3.6.0"
  }
 },
 "nbformat": 4,
 "nbformat_minor": 2
}
